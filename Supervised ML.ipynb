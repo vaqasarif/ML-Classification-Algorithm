{
  "nbformat": 4,
  "nbformat_minor": 0,
  "metadata": {
    "colab": {
      "name": "19k-0934.ipynb",
      "provenance": [],
      "collapsed_sections": []
    },
    "kernelspec": {
      "name": "python3",
      "display_name": "Python 3"
    }
  },
  "cells": [
    {
      "cell_type": "markdown",
      "metadata": {
        "id": "1uGp-KBg06qE"
      },
      "source": [
        "#SVM Kernel Methods"
      ]
    },
    {
      "cell_type": "code",
      "metadata": {
        "id": "iVmpB4BE-eWn"
      },
      "source": [
        "# Importing the required packages \r\n",
        "import pandas as pd \r\n",
        "import matplotlib.pyplot as plt \r\n",
        "from sklearn.svm import SVC \r\n",
        "from sklearn.metrics import confusion_matrix,accuracy_score,roc_curve, auc,roc_auc_score,classification_report\r\n",
        "from sklearn.model_selection import train_test_split,cross_val_score"
      ],
      "execution_count": 3,
      "outputs": []
    },
    {
      "cell_type": "code",
      "metadata": {
        "id": "mAdlVQBV-lU-"
      },
      "source": [
        "#Importing Bank Note Authentication Data From UCI\r\n",
        "bankdata=pd.read_csv('https://archive.ics.uci.edu/ml/machine-learning-'+'databases/00267/data_banknote_authentication.txt', sep= ',', header = None)"
      ],
      "execution_count": 4,
      "outputs": []
    },
    {
      "cell_type": "code",
      "metadata": {
        "id": "QvGoRoR6_F06"
      },
      "source": [
        "#Renaming Columns Names\r\n",
        "bankdata.columns=['Variancle','Skewness','Curtosis','Entropy','Class']"
      ],
      "execution_count": 5,
      "outputs": []
    },
    {
      "cell_type": "code",
      "metadata": {
        "id": "fxZ--gal_7G-"
      },
      "source": [
        "#Features and Target selection\r\n",
        "X = bankdata.drop('Class', axis=1)\r\n",
        "y = bankdata['Class']"
      ],
      "execution_count": 6,
      "outputs": []
    },
    {
      "cell_type": "code",
      "metadata": {
        "id": "SRsNULt8LGmw"
      },
      "source": [
        "#Spliting data into train & test 70-30 respectively.\r\n",
        "from sklearn.model_selection import train_test_split\r\n",
        "X_train, X_test, y_train, y_test = train_test_split(X, y, test_size = 0.30)"
      ],
      "execution_count": 7,
      "outputs": []
    },
    {
      "cell_type": "markdown",
      "metadata": {
        "id": "mSF-IpUwoQxc"
      },
      "source": [
        "# SVM Linear Kernel"
      ]
    },
    {
      "cell_type": "code",
      "metadata": {
        "colab": {
          "base_uri": "https://localhost:8080/"
        },
        "id": "WFXWA9AcLLvh",
        "outputId": "9ac37728-54a7-4e42-cffd-3492670c36ef"
      },
      "source": [
        "#SVM Linear Kernel.\r\n",
        "svclassifier = SVC(kernel='linear', C=1)\r\n",
        "scores = cross_val_score(svclassifier, X, y, cv=10)\r\n",
        "print(\"Accuracy: %0.2f (+/- %0.2f)\" % (scores.mean(), scores.std() * 2))"
      ],
      "execution_count": 8,
      "outputs": [
        {
          "output_type": "stream",
          "text": [
            "Accuracy: 0.99 (+/- 0.02)\n"
          ],
          "name": "stdout"
        }
      ]
    },
    {
      "cell_type": "code",
      "metadata": {
        "id": "hGEHARz3LQEL"
      },
      "source": [
        "#Classifier\r\n",
        "svclassifier.fit(X_train, y_train)\r\n",
        "y_pred = svclassifier.predict(X_test)"
      ],
      "execution_count": 9,
      "outputs": []
    },
    {
      "cell_type": "code",
      "metadata": {
        "colab": {
          "base_uri": "https://localhost:8080/"
        },
        "id": "tPKuzo-PLShA",
        "outputId": "6129bbda-3417-47e0-dac3-1263c714f3da"
      },
      "source": [
        "#Results\r\n",
        "print(confusion_matrix(y_test,y_pred))\r\n",
        "print(classification_report(y_test,y_pred))"
      ],
      "execution_count": 10,
      "outputs": [
        {
          "output_type": "stream",
          "text": [
            "[[235   3]\n",
            " [  0 174]]\n",
            "              precision    recall  f1-score   support\n",
            "\n",
            "           0       1.00      0.99      0.99       238\n",
            "           1       0.98      1.00      0.99       174\n",
            "\n",
            "    accuracy                           0.99       412\n",
            "   macro avg       0.99      0.99      0.99       412\n",
            "weighted avg       0.99      0.99      0.99       412\n",
            "\n"
          ],
          "name": "stdout"
        }
      ]
    },
    {
      "cell_type": "code",
      "metadata": {
        "colab": {
          "base_uri": "https://localhost:8080/",
          "height": 312
        },
        "id": "I57NaRffwfDZ",
        "outputId": "501a3a49-bdc7-4e40-fb32-f5cc09d3bee7"
      },
      "source": [
        "#ROC Curve & AUC\r\n",
        "fpr = dict()\r\n",
        "tpr = dict()\r\n",
        "roc_auc = dict()\r\n",
        "for i in range(2):\r\n",
        "    fpr[i], tpr[i], _ = roc_curve(y_test,y_pred)\r\n",
        "    roc_auc[i] = auc(fpr[i], tpr[i])\r\n",
        "    plt.figure()\r\n",
        "lw = 2\r\n",
        "plt.plot(fpr[1], tpr[1], color='darkorange',\r\n",
        "         lw=lw, label='ROC curve (area = %0.2f)' % roc_auc[1])\r\n",
        "plt.plot([0, 1], [0, 1], color='navy', lw=lw, linestyle='--')\r\n",
        "plt.xlim([0.0, 1.0])\r\n",
        "plt.ylim([0.0, 1.05])\r\n",
        "plt.xlabel('False Positive Rate')\r\n",
        "plt.ylabel('True Positive Rate')\r\n",
        "plt.title('Receiver operating characteristic example')\r\n",
        "plt.legend(loc=\"lower right\")\r\n",
        "plt.show()\r\n",
        "\r\n"
      ],
      "execution_count": 26,
      "outputs": [
        {
          "output_type": "display_data",
          "data": {
            "text/plain": [
              "<Figure size 432x288 with 0 Axes>"
            ]
          },
          "metadata": {
            "tags": []
          }
        },
        {
          "output_type": "display_data",
          "data": {
            "image/png": "[encoded data removed]",
            "text/plain": [
              "<Figure size 432x288 with 1 Axes>"
            ]
          },
          "metadata": {
            "tags": [],
            "needs_background": "light"
          }
        }
      ]
    },
    {
      "cell_type": "markdown",
      "metadata": {
        "id": "tI_rtJzJtqZC"
      },
      "source": [
        "#SVM Polynomial Kernel"
      ]
    },
    {
      "cell_type": "code",
      "metadata": {
        "colab": {
          "base_uri": "https://localhost:8080/"
        },
        "id": "_bcdMA9iLYAo",
        "outputId": "e8cbc8e9-2cc7-409b-a177-969202b29b97"
      },
      "source": [
        "#SVM Polynomial Kernel.\r\n",
        "svclassifier = SVC(kernel='poly',degree=3)\r\n",
        "scores = cross_val_score(svclassifier, X, y, cv=10)\r\n",
        "print(\"Accuracy: %0.2f (+/- %0.2f)\" % (scores.mean(), scores.std() * 2))"
      ],
      "execution_count": 33,
      "outputs": [
        {
          "output_type": "stream",
          "text": [
            "Accuracy: 0.97 (+/- 0.03)\n"
          ],
          "name": "stdout"
        },
        {
          "output_type": "stream",
          "text": [
            "/usr/local/lib/python3.6/dist-packages/sklearn/utils/validation.py:760: DataConversionWarning: A column-vector y was passed when a 1d array was expected. Please change the shape of y to (n_samples, ), for example using ravel().\n",
            "  y = column_or_1d(y, warn=True)\n",
            "/usr/local/lib/python3.6/dist-packages/sklearn/utils/validation.py:760: DataConversionWarning: A column-vector y was passed when a 1d array was expected. Please change the shape of y to (n_samples, ), for example using ravel().\n",
            "  y = column_or_1d(y, warn=True)\n",
            "/usr/local/lib/python3.6/dist-packages/sklearn/utils/validation.py:760: DataConversionWarning: A column-vector y was passed when a 1d array was expected. Please change the shape of y to (n_samples, ), for example using ravel().\n",
            "  y = column_or_1d(y, warn=True)\n",
            "/usr/local/lib/python3.6/dist-packages/sklearn/utils/validation.py:760: DataConversionWarning: A column-vector y was passed when a 1d array was expected. Please change the shape of y to (n_samples, ), for example using ravel().\n",
            "  y = column_or_1d(y, warn=True)\n",
            "/usr/local/lib/python3.6/dist-packages/sklearn/utils/validation.py:760: DataConversionWarning: A column-vector y was passed when a 1d array was expected. Please change the shape of y to (n_samples, ), for example using ravel().\n",
            "  y = column_or_1d(y, warn=True)\n",
            "/usr/local/lib/python3.6/dist-packages/sklearn/utils/validation.py:760: DataConversionWarning: A column-vector y was passed when a 1d array was expected. Please change the shape of y to (n_samples, ), for example using ravel().\n",
            "  y = column_or_1d(y, warn=True)\n",
            "/usr/local/lib/python3.6/dist-packages/sklearn/utils/validation.py:760: DataConversionWarning: A column-vector y was passed when a 1d array was expected. Please change the shape of y to (n_samples, ), for example using ravel().\n",
            "  y = column_or_1d(y, warn=True)\n",
            "/usr/local/lib/python3.6/dist-packages/sklearn/utils/validation.py:760: DataConversionWarning: A column-vector y was passed when a 1d array was expected. Please change the shape of y to (n_samples, ), for example using ravel().\n",
            "  y = column_or_1d(y, warn=True)\n",
            "/usr/local/lib/python3.6/dist-packages/sklearn/utils/validation.py:760: DataConversionWarning: A column-vector y was passed when a 1d array was expected. Please change the shape of y to (n_samples, ), for example using ravel().\n",
            "  y = column_or_1d(y, warn=True)\n",
            "/usr/local/lib/python3.6/dist-packages/sklearn/utils/validation.py:760: DataConversionWarning: A column-vector y was passed when a 1d array was expected. Please change the shape of y to (n_samples, ), for example using ravel().\n",
            "  y = column_or_1d(y, warn=True)\n"
          ],
          "name": "stderr"
        }
      ]
    },
    {
      "cell_type": "code",
      "metadata": {
        "id": "xmF7Cm69MDsA"
      },
      "source": [
        "#Classifier\r\n",
        "svclassifier.fit(X_train, y_train)\r\n",
        "y_pred = svclassifier.predict(X_test)"
      ],
      "execution_count": 34,
      "outputs": []
    },
    {
      "cell_type": "code",
      "metadata": {
        "colab": {
          "base_uri": "https://localhost:8080/"
        },
        "id": "6Kl-8u2kMI3y",
        "outputId": "b8bb6d1a-9872-4155-bf52-2452cc7ddb67"
      },
      "source": [
        "#Results\r\n",
        "print(confusion_matrix(y_test,y_pred))\r\n",
        "print(classification_report(y_test,y_pred))"
      ],
      "execution_count": 35,
      "outputs": [
        {
          "output_type": "stream",
          "text": [
            "[[224  14]\n",
            " [  0 174]]\n",
            "              precision    recall  f1-score   support\n",
            "\n",
            "           0       1.00      0.94      0.97       238\n",
            "           1       0.93      1.00      0.96       174\n",
            "\n",
            "    accuracy                           0.97       412\n",
            "   macro avg       0.96      0.97      0.97       412\n",
            "weighted avg       0.97      0.97      0.97       412\n",
            "\n"
          ],
          "name": "stdout"
        }
      ]
    },
    {
      "cell_type": "code",
      "metadata": {
        "colab": {
          "base_uri": "https://localhost:8080/",
          "height": 312
        },
        "id": "DrkMXUFUwh8Q",
        "outputId": "28a41dde-7c53-4af1-d70b-c5cecff9b84e"
      },
      "source": [
        "#ROC Curve & AUC\r\n",
        "fpr = dict()\r\n",
        "tpr = dict()\r\n",
        "roc_auc = dict()\r\n",
        "for i in range(2):\r\n",
        "    fpr[i], tpr[i], _ = roc_curve(y_test,y_pred)\r\n",
        "    roc_auc[i] = auc(fpr[i], tpr[i])\r\n",
        "    plt.figure()\r\n",
        "lw = 2\r\n",
        "plt.plot(fpr[1], tpr[1], color='darkorange',\r\n",
        "         lw=lw, label='ROC curve (area = %0.2f)' % roc_auc[1])\r\n",
        "plt.plot([0, 1], [0, 1], color='navy', lw=lw, linestyle='--')\r\n",
        "plt.xlim([0.0, 1.0])\r\n",
        "plt.ylim([0.0, 1.05])\r\n",
        "plt.xlabel('False Positive Rate')\r\n",
        "plt.ylabel('True Positive Rate')\r\n",
        "plt.title('Receiver operating characteristic example')\r\n",
        "plt.legend(loc=\"lower right\")\r\n",
        "plt.show()"
      ],
      "execution_count": 36,
      "outputs": [
        {
          "output_type": "display_data",
          "data": {
            "text/plain": [
              "<Figure size 432x288 with 0 Axes>"
            ]
          },
          "metadata": {
            "tags": []
          }
        },
        {
          "output_type": "display_data",
          "data": {
            "image/png": "[encoded data removed]",
            "text/plain": [
              "<Figure size 432x288 with 1 Axes>"
            ]
          },
          "metadata": {
            "tags": [],
            "needs_background": "light"
          }
        }
      ]
    },
    {
      "cell_type": "markdown",
      "metadata": {
        "id": "IAj3fD_eu4Q_"
      },
      "source": [
        "#SVM Gaussian Kernel"
      ]
    },
    {
      "cell_type": "code",
      "metadata": {
        "colab": {
          "base_uri": "https://localhost:8080/"
        },
        "id": "QtrKCJIDMK0l",
        "outputId": "c1707bcc-a1f2-4d96-a512-8037f596ef25"
      },
      "source": [
        "#SVM Gaussian Kernel.\r\n",
        "svclassifier = SVC(kernel='rbf')\r\n",
        "scores = cross_val_score(svclassifier, X, y, cv=10)\r\n",
        "print(\"Accuracy: %0.2f (+/- %0.2f)\" % (scores.mean(), scores.std() * 2))"
      ],
      "execution_count": 38,
      "outputs": [
        {
          "output_type": "stream",
          "text": [
            "Accuracy: 1.00 (+/- 0.01)\n"
          ],
          "name": "stdout"
        },
        {
          "output_type": "stream",
          "text": [
            "/usr/local/lib/python3.6/dist-packages/sklearn/utils/validation.py:760: DataConversionWarning: A column-vector y was passed when a 1d array was expected. Please change the shape of y to (n_samples, ), for example using ravel().\n",
            "  y = column_or_1d(y, warn=True)\n",
            "/usr/local/lib/python3.6/dist-packages/sklearn/utils/validation.py:760: DataConversionWarning: A column-vector y was passed when a 1d array was expected. Please change the shape of y to (n_samples, ), for example using ravel().\n",
            "  y = column_or_1d(y, warn=True)\n",
            "/usr/local/lib/python3.6/dist-packages/sklearn/utils/validation.py:760: DataConversionWarning: A column-vector y was passed when a 1d array was expected. Please change the shape of y to (n_samples, ), for example using ravel().\n",
            "  y = column_or_1d(y, warn=True)\n",
            "/usr/local/lib/python3.6/dist-packages/sklearn/utils/validation.py:760: DataConversionWarning: A column-vector y was passed when a 1d array was expected. Please change the shape of y to (n_samples, ), for example using ravel().\n",
            "  y = column_or_1d(y, warn=True)\n",
            "/usr/local/lib/python3.6/dist-packages/sklearn/utils/validation.py:760: DataConversionWarning: A column-vector y was passed when a 1d array was expected. Please change the shape of y to (n_samples, ), for example using ravel().\n",
            "  y = column_or_1d(y, warn=True)\n",
            "/usr/local/lib/python3.6/dist-packages/sklearn/utils/validation.py:760: DataConversionWarning: A column-vector y was passed when a 1d array was expected. Please change the shape of y to (n_samples, ), for example using ravel().\n",
            "  y = column_or_1d(y, warn=True)\n",
            "/usr/local/lib/python3.6/dist-packages/sklearn/utils/validation.py:760: DataConversionWarning: A column-vector y was passed when a 1d array was expected. Please change the shape of y to (n_samples, ), for example using ravel().\n",
            "  y = column_or_1d(y, warn=True)\n",
            "/usr/local/lib/python3.6/dist-packages/sklearn/utils/validation.py:760: DataConversionWarning: A column-vector y was passed when a 1d array was expected. Please change the shape of y to (n_samples, ), for example using ravel().\n",
            "  y = column_or_1d(y, warn=True)\n",
            "/usr/local/lib/python3.6/dist-packages/sklearn/utils/validation.py:760: DataConversionWarning: A column-vector y was passed when a 1d array was expected. Please change the shape of y to (n_samples, ), for example using ravel().\n",
            "  y = column_or_1d(y, warn=True)\n",
            "/usr/local/lib/python3.6/dist-packages/sklearn/utils/validation.py:760: DataConversionWarning: A column-vector y was passed when a 1d array was expected. Please change the shape of y to (n_samples, ), for example using ravel().\n",
            "  y = column_or_1d(y, warn=True)\n"
          ],
          "name": "stderr"
        }
      ]
    },
    {
      "cell_type": "code",
      "metadata": {
        "id": "29tXXqewMgGm"
      },
      "source": [
        "#Classifier\r\n",
        "svclassifier.fit(X_train, y_train)\r\n",
        "y_pred = svclassifier.predict(X_test)"
      ],
      "execution_count": 39,
      "outputs": []
    },
    {
      "cell_type": "code",
      "metadata": {
        "colab": {
          "base_uri": "https://localhost:8080/"
        },
        "id": "REGqI8_JMiP3",
        "outputId": "be9e0cf3-320c-461a-f986-05fe28766dda"
      },
      "source": [
        "#Results\r\n",
        "print(confusion_matrix(y_test, y_pred))\r\n",
        "print(classification_report(y_test, y_pred))"
      ],
      "execution_count": 40,
      "outputs": [
        {
          "output_type": "stream",
          "text": [
            "[[238   0]\n",
            " [  0 174]]\n",
            "              precision    recall  f1-score   support\n",
            "\n",
            "           0       1.00      1.00      1.00       238\n",
            "           1       1.00      1.00      1.00       174\n",
            "\n",
            "    accuracy                           1.00       412\n",
            "   macro avg       1.00      1.00      1.00       412\n",
            "weighted avg       1.00      1.00      1.00       412\n",
            "\n"
          ],
          "name": "stdout"
        }
      ]
    },
    {
      "cell_type": "code",
      "metadata": {
        "colab": {
          "base_uri": "https://localhost:8080/",
          "height": 312
        },
        "id": "6bMn33tOMkkN",
        "outputId": "ab6107bc-1dbf-44d6-c232-5238fd13eb5b"
      },
      "source": [
        "#ROC Curve & AUC\r\n",
        "fpr = dict()\r\n",
        "tpr = dict()\r\n",
        "roc_auc = dict()\r\n",
        "for i in range(2):\r\n",
        "    fpr[i], tpr[i], _ = roc_curve(y_test,y_pred)\r\n",
        "    roc_auc[i] = auc(fpr[i], tpr[i])\r\n",
        "    plt.figure()\r\n",
        "lw = 2\r\n",
        "plt.plot(fpr[1], tpr[1], color='darkorange',\r\n",
        "         lw=lw, label='ROC curve (area = %0.2f)' % roc_auc[1])\r\n",
        "plt.plot([0, 1], [0, 1], color='navy', lw=lw, linestyle='--')\r\n",
        "plt.xlim([0.0, 1.0])\r\n",
        "plt.ylim([0.0, 1.05])\r\n",
        "plt.xlabel('False Positive Rate')\r\n",
        "plt.ylabel('True Positive Rate')\r\n",
        "plt.title('Receiver operating characteristic example')\r\n",
        "plt.legend(loc=\"lower right\")\r\n",
        "plt.show()"
      ],
      "execution_count": 41,
      "outputs": [
        {
          "output_type": "display_data",
          "data": {
            "text/plain": [
              "<Figure size 432x288 with 0 Axes>"
            ]
          },
          "metadata": {
            "tags": []
          }
        },
        {
          "output_type": "display_data",
          "data": {
            "image/png": "[encoded data removed]",
            "text/plain": [
              "<Figure size 432x288 with 1 Axes>"
            ]
          },
          "metadata": {
            "tags": [],
            "needs_background": "light"
          }
        }
      ]
    },
    {
      "cell_type": "markdown",
      "metadata": {
        "id": "fwtn6-rU1CMa"
      },
      "source": [
        "#Results"
      ]
    },
    {
      "cell_type": "markdown",
      "metadata": {
        "id": "YaMkz_SJ1Dwt"
      },
      "source": [
        "![svm.png](data:image/png;base64,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)"
      ]
    }
  ]
}